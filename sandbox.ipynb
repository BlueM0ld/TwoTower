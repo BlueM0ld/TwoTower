{
 "cells": [
  {
   "cell_type": "code",
   "execution_count": 3,
   "metadata": {},
   "outputs": [
    {
     "ename": "TypeError",
     "evalue": "'list' object is not a mapping",
     "output_type": "error",
     "traceback": [
      "\u001b[1;31m---------------------------------------------------------------------------\u001b[0m",
      "\u001b[1;31mTypeError\u001b[0m                                 Traceback (most recent call last)",
      "Cell \u001b[1;32mIn[3], line 6\u001b[0m\n\u001b[0;32m      3\u001b[0m dict2 \u001b[38;5;241m=\u001b[39m {\u001b[38;5;124m'\u001b[39m\u001b[38;5;124mCity\u001b[39m\u001b[38;5;124m'\u001b[39m: [\u001b[38;5;124m'\u001b[39m\u001b[38;5;124mNew York\u001b[39m\u001b[38;5;124m'\u001b[39m, \u001b[38;5;124m'\u001b[39m\u001b[38;5;124mLondon\u001b[39m\u001b[38;5;124m'\u001b[39m], \u001b[38;5;124m'\u001b[39m\u001b[38;5;124mOccupation\u001b[39m\u001b[38;5;124m'\u001b[39m: \u001b[38;5;124m'\u001b[39m\u001b[38;5;124mEngineer\u001b[39m\u001b[38;5;124m'\u001b[39m}\n\u001b[0;32m      5\u001b[0m \u001b[38;5;66;03m# Merge dictionaries\u001b[39;00m\n\u001b[1;32m----> 6\u001b[0m merged_dict \u001b[38;5;241m=\u001b[39m {\u001b[38;5;241m*\u001b[39m\u001b[38;5;241m*\u001b[39mdict1[\u001b[38;5;124m'\u001b[39m\u001b[38;5;124mName\u001b[39m\u001b[38;5;124m'\u001b[39m], \u001b[38;5;241m*\u001b[39m\u001b[38;5;241m*\u001b[39mdict2[\u001b[38;5;124m'\u001b[39m\u001b[38;5;124mCity\u001b[39m\u001b[38;5;124m'\u001b[39m]}\n\u001b[0;32m      8\u001b[0m \u001b[38;5;66;03m# Convert the merged dictionary to a string\u001b[39;00m\n\u001b[0;32m      9\u001b[0m merged_string \u001b[38;5;241m=\u001b[39m \u001b[38;5;28mstr\u001b[39m(merged_dict)\n",
      "\u001b[1;31mTypeError\u001b[0m: 'list' object is not a mapping"
     ]
    }
   ],
   "source": [
    "# Example dictionaries\n",
    "dict1 = {'Name': ['Alberto', 'Alice'], 'Age': 25}\n",
    "dict2 = {'City': ['New York', 'London'], 'Occupation': 'Engineer'}\n",
    "\n",
    "# Merge dictionaries\n",
    "merged_dict = {**dict1['Name'], **dict2['City']}\n",
    "\n",
    "# Convert the merged dictionary to a string\n",
    "merged_string = str(merged_dict)\n",
    "\n",
    "print(merged_string)\n"
   ]
  },
  {
   "cell_type": "code",
   "execution_count": 4,
   "metadata": {},
   "outputs": [
    {
     "name": "stdout",
     "output_type": "stream",
     "text": [
      "0123456789\n"
     ]
    }
   ],
   "source": [
    "long_string = []\n",
    "for i in range(10):  # Adjust the range to increase the length\n",
    "    long_string.append(str(i))\n",
    "long_string = ''.join(long_string)\n",
    "print(long_string)\n"
   ]
  },
  {
   "cell_type": "code",
   "execution_count": 5,
   "metadata": {},
   "outputs": [
    {
     "name": "stdout",
     "output_type": "stream",
     "text": [
      "0123456789\n"
     ]
    }
   ],
   "source": [
    "long_string = \"\"\n",
    "for i in range(10):  # Adjust the range to increase the length\n",
    "    long_string += str(i)  # Append each number to the string\n",
    "print(long_string)\n"
   ]
  }
 ],
 "metadata": {
  "kernelspec": {
   "display_name": "mlx",
   "language": "python",
   "name": "python3"
  },
  "language_info": {
   "codemirror_mode": {
    "name": "ipython",
    "version": 3
   },
   "file_extension": ".py",
   "mimetype": "text/x-python",
   "name": "python",
   "nbconvert_exporter": "python",
   "pygments_lexer": "ipython3",
   "version": "3.9.20"
  }
 },
 "nbformat": 4,
 "nbformat_minor": 2
}
